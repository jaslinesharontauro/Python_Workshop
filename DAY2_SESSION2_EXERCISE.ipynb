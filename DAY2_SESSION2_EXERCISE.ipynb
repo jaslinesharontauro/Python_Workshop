{
  "nbformat": 4,
  "nbformat_minor": 0,
  "metadata": {
    "colab": {
      "name": "DAY2_SESSION2_EXERCISE.ipynb",
      "provenance": [],
      "collapsed_sections": [],
      "authorship_tag": "ABX9TyP19mowsoVbhGxFMdkTpBCW",
      "include_colab_link": true
    },
    "kernelspec": {
      "name": "python3",
      "display_name": "Python 3"
    }
  },
  "cells": [
    {
      "cell_type": "markdown",
      "metadata": {
        "id": "view-in-github",
        "colab_type": "text"
      },
      "source": [
        "<a href=\"https://colab.research.google.com/github/jaslinesharontauro/Python_Workshop/blob/master/DAY2_SESSION2_EXERCISE.ipynb\" target=\"_parent\"><img src=\"https://colab.research.google.com/assets/colab-badge.svg\" alt=\"Open In Colab\"/></a>"
      ]
    },
    {
      "cell_type": "markdown",
      "metadata": {
        "id": "_UsnlB-CgLET",
        "colab_type": "text"
      },
      "source": [
        "#Add rollno and marks {name:mark} for n number of students through keyboard in a dictionary and print the marks in descending order with respective name."
      ]
    },
    {
      "cell_type": "code",
      "metadata": {
        "id": "OrCRSjpggg5d",
        "colab_type": "code",
        "colab": {
          "base_uri": "https://localhost:8080/",
          "height": 202
        },
        "outputId": "fce86318-a537-4973-bd21-b86345c526e0"
      },
      "source": [
        "n=int(input(\"Enter a number students:\"))\n",
        "d={(input('Enter the name:')):(input('enter the mark:')) for x in range(1,n+1)}\n",
        "import operator\n",
        "print(\"dictionary:\")\n",
        "print(d)\n",
        "sorted_d = sorted(d.items(), key=operator.itemgetter(1))\n",
        "sorted_a= sorted(d.items(), key=operator.itemgetter(1),reverse=True)\n",
        "print(\"In descending:\")\n",
        "print(sorted_a)"
      ],
      "execution_count": null,
      "outputs": [
        {
          "output_type": "stream",
          "text": [
            "Enter a number students:3\n",
            "enter the mark:12\n",
            "Enter the name:AAAA\n",
            "enter the mark:67\n",
            "Enter the name:HHH\n",
            "enter the mark:67\n",
            "Enter the name:DDD\n",
            "dictionary:\n",
            "{'AAAA': '12', 'HHH': '67', 'DDD': '67'}\n",
            "In descending:\n",
            "[('HHH', '67'), ('DDD', '67'), ('AAAA', '12')]\n"
          ],
          "name": "stdout"
        }
      ]
    },
    {
      "cell_type": "markdown",
      "metadata": {
        "id": "PjIL16aFkSfj",
        "colab_type": "text"
      },
      "source": [
        "#\tAdd  name and salary {name:salary} for n number of employees through keyboard in a dictionary and print them in name alphabetical order with salary"
      ]
    },
    {
      "cell_type": "code",
      "metadata": {
        "id": "DJ-JoGVOkdAE",
        "colab_type": "code",
        "colab": {
          "base_uri": "https://localhost:8080/",
          "height": 185
        },
        "outputId": "0097baf7-c27a-45d6-9d1c-b145784b15c6"
      },
      "source": [
        "n=int(input(\"Enter a number Employees:\"))\n",
        "d={(input('Enter the name:')):(input('enter the salary:')) for x in range(1,n+1)}\n",
        "import operator\n",
        "print(\"dictionary:\")\n",
        "print(d)\n",
        "sorted_d = sorted(d.items(), key=operator.itemgetter(0))\n",
        "print(sorted_d)"
      ],
      "execution_count": null,
      "outputs": [
        {
          "output_type": "stream",
          "text": [
            "Enter a number Employees:3\n",
            "enter the salary:45k\n",
            "Enter the name:jjj\n",
            "enter the salary:40k\n",
            "Enter the name:ttt\n",
            "enter the salary:233k\n",
            "Enter the name:sss\n",
            "dictionary:\n",
            "{'jjj': '45k', 'ttt': '40k', 'sss': '233k'}\n",
            "[('jjj', '45k'), ('sss', '233k'), ('ttt', '40k')]\n"
          ],
          "name": "stdout"
        }
      ]
    },
    {
      "cell_type": "markdown",
      "metadata": {
        "id": "JeKFJZqElwOV",
        "colab_type": "text"
      },
      "source": [
        "#\tAdd  name and salary {name:salary} for n number of employees through keyboard in a dictionary and print them in salary  ascending order and  sum, max, min and average of the salaries\n",
        "\n"
      ]
    },
    {
      "cell_type": "code",
      "metadata": {
        "id": "Bfa3QThFl0m0",
        "colab_type": "code",
        "colab": {
          "base_uri": "https://localhost:8080/",
          "height": 235
        },
        "outputId": "4d390bd2-3f95-44ed-cef6-df9463307c0a"
      },
      "source": [
        "n=int(input(\"Enter a number employee:\"))\n",
        "d={(input('Enter the name:')):int(input('enter the salary:')) for x in range(1,n+1)}\n",
        "import operator\n",
        "print(\"dictionary:\")\n",
        "print(d)\n",
        "sorted_d = sorted(d.items(), key=operator.itemgetter(1))\n",
        "print(\"In ascending order salary:\")\n",
        "print(sorted_d)\n",
        "print(\"sum:\",sum(d.values()))\n",
        "print(\"max:\",max(d.values()))\n",
        "print(\"min:\",min(d.values()))\n",
        "print(\"average:\",sum(d.values())/n)"
      ],
      "execution_count": null,
      "outputs": [
        {
          "output_type": "stream",
          "text": [
            "Enter a number employee:2\n",
            "enter the salary:45000\n",
            "Enter the name:jas\n",
            "enter the salary:78000\n",
            "Enter the name:aashi\n",
            "dictionary:\n",
            "{'jas': 45000, 'aashi': 78000}\n",
            "In ascending order salary:\n",
            "[('jas', 45000), ('aashi', 78000)]\n",
            "sum: 123000\n",
            "max: 78000\n",
            "min: 45000\n",
            "average: 61500.0\n"
          ],
          "name": "stdout"
        }
      ]
    },
    {
      "cell_type": "markdown",
      "metadata": {
        "id": "qdr3GsXRw5rs",
        "colab_type": "text"
      },
      "source": [
        "#Add name and salary {name:salary} for n number of employees through keyboard in a dictionary and print only the employees whose salary is greater than 2000 but less than 4000"
      ]
    },
    {
      "cell_type": "code",
      "metadata": {
        "id": "G-rr61q2w9-C",
        "colab_type": "code",
        "colab": {
          "base_uri": "https://localhost:8080/",
          "height": 168
        },
        "outputId": "27762339-3e68-40be-d948-b08512915dc1"
      },
      "source": [
        "dict={}\n",
        "n=int(input(\"enter the no of employees\"))\n",
        "for i in range(n):\n",
        "  name=input(\"Enter the name\")\n",
        "  marks=int(input(\"Enter the salary\"))\n",
        "  dict[name]=marks\n",
        "print(dict)\n",
        "res={key:val for key, val in dict.items() if val>2000 and val<4000}\n",
        "print(res)"
      ],
      "execution_count": null,
      "outputs": [
        {
          "output_type": "stream",
          "text": [
            "enter the no of employees3\n",
            "Enter the nameJAS\n",
            "Enter the salary4000\n",
            "Enter the nameYUG\n",
            "Enter the salary45000\n",
            "Enter the nameTINA \n",
            "Enter the salary3000\n",
            "{'JAS': 4000, 'YUG': 45000, 'TINA ': 3000}\n",
            "{'TINA ': 3000}\n"
          ],
          "name": "stdout"
        }
      ]
    },
    {
      "cell_type": "markdown",
      "metadata": {
        "id": "2-IydJpruEEy",
        "colab_type": "text"
      },
      "source": [
        "#\tPython program to convert a 3 digit number  into words"
      ]
    },
    {
      "cell_type": "code",
      "metadata": {
        "id": "Ugu5qOafuHhT",
        "colab_type": "code",
        "colab": {
          "base_uri": "https://localhost:8080/",
          "height": 50
        },
        "outputId": "7c71581a-23a5-46f7-c40a-b83c20a57fec"
      },
      "source": [
        "d={0:'',1:'one',2:'two',3:'three',4:'four',5:'five',6:'six',7:'seven',8:'eight',9:'nine',\\\n",
        "   10:'ten',11:'eleven',12:'twelve',13:'thirteen',14:'fourteen',15:'fifteen',16:'sixteen',\\\n",
        "   17:'seventeen',18:'eightteen',19:'nineteen',20:'twenty',30:'thirty',40:'fourty',50:'fifty',\\\n",
        "   60:'sixty',70:'seventy',80:'eighty',90:'ninty',100:'hundred',200:'twohundred',300:'threehundred',400:'fourhundred',500:'fivehundred',600:'sixhundred',700:'sevenhundred',800:'eighthundred',900:'ninehundred'}\n",
        "num=int(input(\"Enter the integer between 1 to 999:\"))\n",
        "if (num<=20):\n",
        "      print(d[num])\n",
        "if(num>20 and num<1000):\n",
        "        if num%10==0:       \n",
        "            print(d[num])\n",
        "        else:\n",
        "            print(d[num//10*10]+\" \"+d[num%10])"
      ],
      "execution_count": null,
      "outputs": [
        {
          "output_type": "stream",
          "text": [
            "Enter the integer between 1 to 999:700\n",
            "sevenhundred\n"
          ],
          "name": "stdout"
        }
      ]
    },
    {
      "cell_type": "markdown",
      "metadata": {
        "id": "kvF1ljXquglN",
        "colab_type": "text"
      },
      "source": [
        "# ***#Files Exercises***"
      ]
    },
    {
      "cell_type": "markdown",
      "metadata": {
        "id": "hRE5uOm3urva",
        "colab_type": "text"
      },
      "source": [
        "#Python Program to count the total number of charaters (except blank space) in a text file."
      ]
    },
    {
      "cell_type": "code",
      "metadata": {
        "id": "1kxH_dp5uw-D",
        "colab_type": "code",
        "colab": {
          "base_uri": "https://localhost:8080/",
          "height": 50
        },
        "outputId": "d94d6cf0-e0a0-4e57-ce85-bd7c793c61a3"
      },
      "source": [
        "fname = input(\"Enter the name of the file:\")\n",
        "infile = open(fname, 'r')\n",
        "lines = 0\n",
        "words = 0\n",
        "characters = 0\n",
        "for line in infile:\n",
        "    wordslist = line.split()\n",
        "    lines = lines + 1\n",
        "    words = words + len(wordslist)\n",
        "    characters = characters + len(line)\n",
        "print(characters)"
      ],
      "execution_count": null,
      "outputs": [
        {
          "output_type": "stream",
          "text": [
            "Enter the name of the file:/content/NEW.txt\n",
            "91\n"
          ],
          "name": "stdout"
        }
      ]
    },
    {
      "cell_type": "markdown",
      "metadata": {
        "id": "PyvNcJKyvcTA",
        "colab_type": "text"
      },
      "source": [
        "#Python Program to print all the numbers present in a text file with its total number of occurrence."
      ]
    },
    {
      "cell_type": "code",
      "metadata": {
        "id": "0jKWhM9Svgpk",
        "colab_type": "code",
        "colab": {
          "base_uri": "https://localhost:8080/",
          "height": 50
        },
        "outputId": "010810a1-b947-4027-f4c6-b6c80f30fe4d"
      },
      "source": [
        "fname = input(\"Enter the name of the file:\")\n",
        "infile = open(fname, 'r')\n",
        "content = infile.readlines() \n",
        "a = 0\n",
        "for line in content: \n",
        "    for i in line:  \n",
        "        if i.isdigit() == True: \n",
        "          a=a+1\n",
        "print(\"The total numbers in a text file is:\", a)"
      ],
      "execution_count": null,
      "outputs": [
        {
          "output_type": "stream",
          "text": [
            "Enter the name of the file:/content/NEW.txt\n",
            "The total numbers in a text file is: 6\n"
          ],
          "name": "stdout"
        }
      ]
    },
    {
      "cell_type": "markdown",
      "metadata": {
        "id": "1Eb7DcTYvzpk",
        "colab_type": "text"
      },
      "source": [
        "#Python Program to append the contents of one file to another file "
      ]
    },
    {
      "cell_type": "code",
      "metadata": {
        "id": "TltDZBK6v6Nc",
        "colab_type": "code",
        "colab": {
          "base_uri": "https://localhost:8080/",
          "height": 50
        },
        "outputId": "26a2558d-b91e-4857-86fb-004b6ddf80d2"
      },
      "source": [
        "name1 = input(\"Enter file to be read from: \")\n",
        "name2 = input(\"Enter file to be appended to: \")\n",
        "fin = open(name1, \"r\")\n",
        "data2 = fin.read()\n",
        "fin.close()\n",
        "fout = open(name2, \"a\")\n",
        "fout.write(data2)\n",
        "fout.close()"
      ],
      "execution_count": null,
      "outputs": [
        {
          "output_type": "stream",
          "text": [
            "Enter file to be read from: /content/NEW.txt\n",
            "Enter file to be appended to: /content/NEW1.txt\n"
          ],
          "name": "stdout"
        }
      ]
    },
    {
      "cell_type": "markdown",
      "metadata": {
        "id": "Hrplh1JUwRTr",
        "colab_type": "text"
      },
      "source": [
        "#Python Program to count the number of blank spaces in a text file. "
      ]
    },
    {
      "cell_type": "code",
      "metadata": {
        "id": "lTbd0ynGwWv7",
        "colab_type": "code",
        "colab": {
          "base_uri": "https://localhost:8080/",
          "height": 67
        },
        "outputId": "67495b95-1fb0-4e0b-eee5-4c800ce6827c"
      },
      "source": [
        "fname = input(\"Enter file name: \")\n",
        "k = 0\n",
        "\n",
        "with open(fname, 'r') as f:\n",
        "    for line in f:\n",
        "        words = line.split()\n",
        "        for i in words:\n",
        "            for letter in i:\n",
        "                if(letter.isspace):\n",
        "                    k=k+1\n",
        "print(\"Occurrences of blank spaces:\")\n",
        "print(k)"
      ],
      "execution_count": null,
      "outputs": [
        {
          "output_type": "stream",
          "text": [
            "Enter file name: /content/NEW1.txt\n",
            "Occurrences of blank spaces:\n",
            "120\n"
          ],
          "name": "stdout"
        }
      ]
    },
    {
      "cell_type": "markdown",
      "metadata": {
        "id": "gh7F-EhAwgD1",
        "colab_type": "text"
      },
      "source": [
        "#Python Program to read a file and capitalize the first letter of every word in the file and copy the every word capitalized content  into another file and read it ."
      ]
    },
    {
      "cell_type": "code",
      "metadata": {
        "id": "rOp2AyVuwjrb",
        "colab_type": "code",
        "colab": {
          "base_uri": "https://localhost:8080/",
          "height": 185
        },
        "outputId": "72d99fab-441e-4fe8-97dc-50d31af27f3e"
      },
      "source": [
        "fname = input(\"Enter file name: \")\n",
        "with open(fname, 'r') as f:\n",
        "    for line in f:\n",
        "        l=line.title()\n",
        "        print(l)"
      ],
      "execution_count": null,
      "outputs": [
        {
          "output_type": "stream",
          "text": [
            "Enter file name: /content/NEW.txt\n",
            "My Name Is Jasline Sharon Tauro\n",
            "\n",
            "I Love Cats\n",
            "\n",
            "I Am Studying Engineering\n",
            "\n",
            "I Go To Aiet College \n",
            "\n",
            "My Usn Is 4Al18Cs029\n"
          ],
          "name": "stdout"
        }
      ]
    }
  ]
}