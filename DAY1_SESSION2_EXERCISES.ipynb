{
  "nbformat": 4,
  "nbformat_minor": 0,
  "metadata": {
    "colab": {
      "name": "DAY1_SESSION2_EXERCISES.ipynb",
      "provenance": [],
      "collapsed_sections": [],
      "authorship_tag": "ABX9TyN8cGgP9dLCMy4BzvpHcWoE",
      "include_colab_link": true
    },
    "kernelspec": {
      "name": "python3",
      "display_name": "Python 3"
    }
  },
  "cells": [
    {
      "cell_type": "markdown",
      "metadata": {
        "id": "view-in-github",
        "colab_type": "text"
      },
      "source": [
        "<a href=\"https://colab.research.google.com/github/jaslinesharontauro/Python_Workshop/blob/master/DAY1_SESSION2_EXERCISES.ipynb\" target=\"_parent\"><img src=\"https://colab.research.google.com/assets/colab-badge.svg\" alt=\"Open In Colab\"/></a>"
      ]
    },
    {
      "cell_type": "markdown",
      "metadata": {
        "id": "9IakUOQ8Oxcx",
        "colab_type": "text"
      },
      "source": [
        "#1.Write a program to print the triangle\n",
        "i/p  4\n",
        "\n",
        "#1\n",
        "#2    3\n",
        "#3    4   5\n",
        "#4    5   6   7\n",
        " "
      ]
    },
    {
      "cell_type": "code",
      "metadata": {
        "id": "ZyKFd9t2OzWy",
        "colab_type": "code",
        "colab": {
          "base_uri": "https://localhost:8080/",
          "height": 118
        },
        "outputId": "8ee2d8d3-bafb-491f-8535-43c57425b936"
      },
      "source": [
        "n = int(input('Enter the number'))\n",
        "for i in range(n+1):\n",
        "    for j in range(i):\n",
        "        k=i+j\n",
        "        print (k , end=\" \")\n",
        "    print('')"
      ],
      "execution_count": 1,
      "outputs": [
        {
          "output_type": "stream",
          "text": [
            "Enter the number4\n",
            "\n",
            "1 \n",
            "2 3 \n",
            "3 4 5 \n",
            "4 5 6 7 \n"
          ],
          "name": "stdout"
        }
      ]
    },
    {
      "cell_type": "markdown",
      "metadata": {
        "id": "Jf3SFTiLPU-Z",
        "colab_type": "text"
      },
      "source": [
        "#2 Enter number 4\n",
        "\n",
        "#*\n",
        "#*  *\n",
        "#*  *  *\n",
        "#*  *  *  *\n"
      ]
    },
    {
      "cell_type": "code",
      "metadata": {
        "id": "9OzoMUZRPZef",
        "colab_type": "code",
        "colab": {
          "base_uri": "https://localhost:8080/",
          "height": 118
        },
        "outputId": "c54ae87a-6182-4d1b-87b3-aa7a8122e1fb"
      },
      "source": [
        "n = int(input('Enter the number'))\n",
        "for i in range(n+1):\n",
        "    for j in range(i):\n",
        "        print ('*  ' , end=\"\")\n",
        "    print('')"
      ],
      "execution_count": 3,
      "outputs": [
        {
          "output_type": "stream",
          "text": [
            "Enter the number4\n",
            "\n",
            "*  \n",
            "*  *  \n",
            "*  *  *  \n",
            "*  *  *  *  \n"
          ],
          "name": "stdout"
        }
      ]
    },
    {
      "cell_type": "markdown",
      "metadata": {
        "id": "fniOqHJ7PqNq",
        "colab_type": "text"
      },
      "source": [
        "#Enter number 5\n",
        "\n",
        "#5\n",
        "#4 5\n",
        "#3 4 5\n",
        "#2 3 4 5\n",
        "#1 2 3 4 5\n"
      ]
    },
    {
      "cell_type": "code",
      "metadata": {
        "id": "Nn9vK5GAPu0Z",
        "colab_type": "code",
        "colab": {
          "base_uri": "https://localhost:8080/",
          "height": 118
        },
        "outputId": "f5b28b52-0555-4d41-96f1-306a97c7df47"
      },
      "source": [
        "n=5;\n",
        "for i in range(n+1):\n",
        "    k=n-i+1\n",
        "    for j in range(i):\n",
        "        print (k, end=\" \")\n",
        "        k=k+1\n",
        "    print('')"
      ],
      "execution_count": 4,
      "outputs": [
        {
          "output_type": "stream",
          "text": [
            "\n",
            "5 \n",
            "4 5 \n",
            "3 4 5 \n",
            "2 3 4 5 \n",
            "1 2 3 4 5 \n"
          ],
          "name": "stdout"
        }
      ]
    },
    {
      "cell_type": "markdown",
      "metadata": {
        "id": "BBUbZIDvP36W",
        "colab_type": "text"
      },
      "source": [
        "#Enter number 5\n",
        "\n",
        "#5 4 3 2 1\n",
        "#4 3 2 1\n",
        "#3 2 1\n",
        "#2 1\n",
        "#1\n"
      ]
    },
    {
      "cell_type": "code",
      "metadata": {
        "id": "isT8n6U_P9Le",
        "colab_type": "code",
        "colab": {
          "base_uri": "https://localhost:8080/",
          "height": 118
        },
        "outputId": "143c878b-d178-4abf-bc55-5dce5cedb958"
      },
      "source": [
        "n=5;\n",
        "for i in range(n+1):\n",
        "    k=n-i\n",
        "    for j in range(n-i):\n",
        "        print (k, end=\" \")\n",
        "        k=k-1\n",
        "    print('')"
      ],
      "execution_count": 5,
      "outputs": [
        {
          "output_type": "stream",
          "text": [
            "5 4 3 2 1 \n",
            "4 3 2 1 \n",
            "3 2 1 \n",
            "2 1 \n",
            "1 \n",
            "\n"
          ],
          "name": "stdout"
        }
      ]
    },
    {
      "cell_type": "markdown",
      "metadata": {
        "id": "wyIuyDRhQCy7",
        "colab_type": "text"
      },
      "source": [
        "#Enter number 4\n",
        "\n",
        "#1 2 3 4\n",
        "#2 3 4\n",
        "#3 4\n",
        "#4\n",
        "#3 4\n",
        "#2 3 4\n",
        "#1 2 3 4\n"
      ]
    },
    {
      "cell_type": "code",
      "metadata": {
        "id": "hmk5PIvkQJcz",
        "colab_type": "code",
        "colab": {
          "base_uri": "https://localhost:8080/",
          "height": 134
        },
        "outputId": "568d4fbd-c89d-4bbf-f926-daf40e781f49"
      },
      "source": [
        "n=4;\n",
        "for i in range(n+1):\n",
        "    k=i+1\n",
        "    for j in range(n-i):\n",
        "        print (k, end=\" \")\n",
        "        k=k+1\n",
        "    if (i+1) != (n+1):\n",
        "        print('')\n",
        "for i in range(n-1):\n",
        "    k=n-i-1\n",
        "    for j in range(i+2):\n",
        "        print (k, end=\" \")\n",
        "        k=k+1\n",
        "    print('')"
      ],
      "execution_count": 6,
      "outputs": [
        {
          "output_type": "stream",
          "text": [
            "1 2 3 4 \n",
            "2 3 4 \n",
            "3 4 \n",
            "4 \n",
            "3 4 \n",
            "2 3 4 \n",
            "1 2 3 4 \n"
          ],
          "name": "stdout"
        }
      ]
    },
    {
      "cell_type": "markdown",
      "metadata": {
        "id": "JHrIMPbVQPya",
        "colab_type": "text"
      },
      "source": [
        "#Find the length of a string without using len functions"
      ]
    },
    {
      "cell_type": "code",
      "metadata": {
        "id": "hT1pF_ObQSud",
        "colab_type": "code",
        "colab": {
          "base_uri": "https://localhost:8080/",
          "height": 67
        },
        "outputId": "e3036c26-3323-4663-e2e9-79988e909db8"
      },
      "source": [
        "string=input(\"Enter string:\")\n",
        "count=0\n",
        "for i in string:\n",
        "    count=count+1\n",
        "print(\"Length of string is:\")\n",
        "print(count)"
      ],
      "execution_count": 8,
      "outputs": [
        {
          "output_type": "stream",
          "text": [
            "Enter string:jasline sharon tauro\n",
            "Length of string is:\n",
            "20\n"
          ],
          "name": "stdout"
        }
      ]
    },
    {
      "cell_type": "markdown",
      "metadata": {
        "id": "zjCEgXK-QiK_",
        "colab_type": "text"
      },
      "source": [
        "#Find the no of words and characters in a string"
      ]
    },
    {
      "cell_type": "code",
      "metadata": {
        "id": "a4I2XT4mQlt_",
        "colab_type": "code",
        "colab": {
          "base_uri": "https://localhost:8080/",
          "height": 101
        },
        "outputId": "b990970a-482c-4a1c-ec81-87a551426626"
      },
      "source": [
        "string=input(\"Enter string:\")\n",
        "char=0\n",
        "word=0\n",
        "for i in string:\n",
        "      if(i==' '):\n",
        "            if(char!=0):\n",
        "                  word=word+1\n",
        "      char=char+1\n",
        "if(char!=0):            \n",
        "      word=word+1\n",
        "print(\"Number of words is:\")\n",
        "print(word)\n",
        "print(\"Number of characters is:\")\n",
        "print(char)\n"
      ],
      "execution_count": 9,
      "outputs": [
        {
          "output_type": "stream",
          "text": [
            "Enter string:jasline sharon tauro\n",
            "Number of words is:\n",
            "3\n",
            "Number of characters is:\n",
            "20\n"
          ],
          "name": "stdout"
        }
      ]
    },
    {
      "cell_type": "markdown",
      "metadata": {
        "id": "K5_7D9DJQufi",
        "colab_type": "text"
      },
      "source": [
        "#Find the no of occurrences of a word in a string\n",
        "\n"
      ]
    },
    {
      "cell_type": "code",
      "metadata": {
        "id": "yAsdZXloQznb",
        "colab_type": "code",
        "colab": {
          "base_uri": "https://localhost:8080/",
          "height": 67
        },
        "outputId": "ce516e0d-b1d6-4def-a774-beab32cbeb54"
      },
      "source": [
        "string1 = input(\"Enter string:\")\n",
        "string2 = input(\"Enter word:\")\n",
        "word = string1.split()\n",
        "count = 0\n",
        "for i in word:\n",
        "   if i == string2:\n",
        "      count=count+1\n",
        "print(count)"
      ],
      "execution_count": 11,
      "outputs": [
        {
          "output_type": "stream",
          "text": [
            "Enter string:Jasline sharon sharon tauro\n",
            "Enter word:sharon\n",
            "2\n"
          ],
          "name": "stdout"
        }
      ]
    }
  ]
}